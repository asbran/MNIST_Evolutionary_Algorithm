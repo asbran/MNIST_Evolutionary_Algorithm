{
 "cells": [
  {
   "cell_type": "markdown",
   "metadata": {},
   "source": [
    "First, let's download a picture in binary mode. To make it simple, I'm downloading it from the MNIST dataset in keras."
   ]
  },
  {
   "cell_type": "code",
   "execution_count": 13,
   "metadata": {},
   "outputs": [],
   "source": [
    "from keras.datasets import mnist\n",
    "import numpy as np\n",
    "(x_train, _), (x_test, _) = mnist.load_data()"
   ]
  },
  {
   "cell_type": "markdown",
   "metadata": {},
   "source": [
    "We only want one picture for simplification. Let's call it our variable."
   ]
  },
  {
   "cell_type": "code",
   "execution_count": 18,
   "metadata": {},
   "outputs": [],
   "source": [
    "variable = x_train[0]"
   ]
  },
  {
   "cell_type": "markdown",
   "metadata": {},
   "source": [
    "Let's check how the picture looks like. First let's get its dimensions, and the value of the brightest pixel."
   ]
  },
  {
   "cell_type": "code",
   "execution_count": 19,
   "metadata": {},
   "outputs": [
    {
     "name": "stdout",
     "output_type": "stream",
     "text": [
      "28 28\n",
      "255\n"
     ]
    }
   ],
   "source": [
    "dimension1 = variable.shape[0]\n",
    "dimension2 = variable.shape[1]\n",
    "brightest_pixel = variable.max()\n",
    "\n",
    "print(dimension1, dimension2)\n",
    "print(brightest_pixel)"
   ]
  },
  {
   "cell_type": "markdown",
   "metadata": {},
   "source": [
    "As you can see. We'll have 28 * 28 = 784 pixel numbers, and the maximum value of those numbers is 255. Let's check how 255 would look like in binary form."
   ]
  },
  {
   "cell_type": "code",
   "execution_count": 49,
   "metadata": {},
   "outputs": [
    {
     "name": "stdout",
     "output_type": "stream",
     "text": [
      "11111111\n"
     ]
    }
   ],
   "source": [
    "binary_format = bin(brightest_pixel)[2:]\n",
    "print(binary_format)"
   ]
  },
  {
   "cell_type": "markdown",
   "metadata": {},
   "source": [
    "Let's get the length of that string."
   ]
  },
  {
   "cell_type": "code",
   "execution_count": 29,
   "metadata": {},
   "outputs": [
    {
     "name": "stdout",
     "output_type": "stream",
     "text": [
      "8\n"
     ]
    }
   ],
   "source": [
    "binary_format_length = len(binary_format)\n",
    "print(binary_format_length)"
   ]
  },
  {
   "cell_type": "markdown",
   "metadata": {},
   "source": [
    "In essense, we could transform all the pixel numbers in the image into 8-digit binary numbers. We thus would have a 8 * 28 * 28 array. Let's call this our \"gene_length\"."
   ]
  },
  {
   "cell_type": "code",
   "execution_count": 30,
   "metadata": {},
   "outputs": [
    {
     "name": "stdout",
     "output_type": "stream",
     "text": [
      "6272\n"
     ]
    }
   ],
   "source": [
    "gene_length = binary_format_length * dimension1 * dimension2\n",
    "print(gene_length)"
   ]
  },
  {
   "cell_type": "markdown",
   "metadata": {},
   "source": [
    "Let's check how the image looks like using pyplot."
   ]
  },
  {
   "cell_type": "code",
   "execution_count": 371,
   "metadata": {},
   "outputs": [
    {
     "data": {
      "image/png": "[encoded data removed]",
      "text/plain": [
       "<Figure size 1440x288 with 1 Axes>"
      ]
     },
     "metadata": {},
     "output_type": "display_data"
    }
   ],
   "source": [
    "import matplotlib.pyplot as plt\n",
    "\n",
    "def show_picture(variable):\n",
    "    plt.figure(figsize=(20, 4))\n",
    "\n",
    "    # display original\n",
    "    ax = plt.subplot(2, 1, 1)\n",
    "    plt.imshow(variable.reshape(variable.shape[0], variable.shape[1]))\n",
    "    plt.gray()\n",
    "    ax.get_xaxis().set_visible(False)\n",
    "    ax.get_yaxis().set_visible(False)\n",
    "\n",
    "    plt.show()\n",
    "    \n",
    "show_picture(variable)"
   ]
  },
  {
   "cell_type": "markdown",
   "metadata": {},
   "source": [
    "Clearly, it's a 5. But let's transform each and every pixel into a binary number first. Let's make a function to transform an image into binary and the binaries back to an image."
   ]
  },
  {
   "cell_type": "code",
   "execution_count": 158,
   "metadata": {},
   "outputs": [],
   "source": [
    "def transform_image_to_binary(image, binary_format_length):\n",
    "    \n",
    "    #Flatten the 28x28 array into 784x1\n",
    "    image = image.flatten()\n",
    "    \n",
    "    #Transform every number into a binary format\n",
    "    image = np.array([bin(i)[2:].zfill(binary_format_length) for i in image])\n",
    "    \n",
    "    #Make a list of binaries\n",
    "    binaries = list()\n",
    "    for i in image:\n",
    "        for j in i:\n",
    "            binaries.append(int(j))\n",
    "    \n",
    "    binaries = np.array(binaries)\n",
    "    \n",
    "    return binaries\n",
    "\n",
    "def transform_binary_to_image(binaries, binary_format_length):\n",
    "    \n",
    "    #Reshape the numbers in groups of 8\n",
    "    binaries = binaries.reshape(-1,8)\n",
    "    \n",
    "    #Join the groups and read the numbers\n",
    "    image = list()\n",
    "    for i in range(len(binaries)):\n",
    "        number = ''.join(str(j) for j in binaries[i])\n",
    "        number = int(number, 2)\n",
    "        image.append(number)\n",
    "    \n",
    "    #Reshape the picture in a 28x28 array\n",
    "    image = np.array(image)\n",
    "    image = image.reshape(28, 28)\n",
    "    \n",
    "    return image"
   ]
  },
  {
   "cell_type": "markdown",
   "metadata": {},
   "source": [
    "Let's test to see if the two functions work."
   ]
  },
  {
   "cell_type": "code",
   "execution_count": null,
   "metadata": {},
   "outputs": [],
   "source": [
    "transformed_image = transform_image_to_binary(variable, binary_format_length)\n",
    "reconstructed_image = transform_binary_to_image(transformed_image, binary_format_length)\n",
    "reconstructed_image == variable"
   ]
  },
  {
   "cell_type": "markdown",
   "metadata": {},
   "source": [
    "All right, since we have our target variable specifications sorted out, and possible transformations. Let's move on to designing our Evolutionary Algorithm. Let's first define a function to generate a random individual."
   ]
  },
  {
   "cell_type": "code",
   "execution_count": 34,
   "metadata": {},
   "outputs": [],
   "source": [
    "def generate_individual(gene_length):\n",
    "    return np.random.randint(2, size = gene_length, dtype = 'uint')"
   ]
  },
  {
   "cell_type": "code",
   "execution_count": 40,
   "metadata": {},
   "outputs": [
    {
     "name": "stdout",
     "output_type": "stream",
     "text": [
      "[0 0 0 ... 1 0 0]\n",
      "6272\n"
     ]
    }
   ],
   "source": [
    "test_individual = generate_individual(gene_length)\n",
    "print(test_individual)\n",
    "print(len(test_individual))"
   ]
  },
  {
   "cell_type": "markdown",
   "metadata": {},
   "source": [
    "Looks like it works. Now let's generate a population of them."
   ]
  },
  {
   "cell_type": "code",
   "execution_count": 45,
   "metadata": {},
   "outputs": [],
   "source": [
    "def generate_population(population_size, gene_length):\n",
    "    population = list()\n",
    "    for i in range(population_size):\n",
    "        population.append(generate_individual(gene_length))\n",
    "    return population"
   ]
  },
  {
   "cell_type": "code",
   "execution_count": 47,
   "metadata": {},
   "outputs": [
    {
     "name": "stdout",
     "output_type": "stream",
     "text": [
      "[array([0, 1, 0, ..., 1, 1, 1], dtype=uint32), array([0, 1, 0, ..., 1, 1, 0], dtype=uint32), array([0, 0, 0, ..., 0, 0, 0], dtype=uint32), array([0, 1, 1, ..., 1, 1, 1], dtype=uint32), array([1, 1, 0, ..., 0, 0, 1], dtype=uint32), array([1, 1, 1, ..., 1, 1, 0], dtype=uint32), array([0, 1, 0, ..., 1, 1, 1], dtype=uint32), array([0, 1, 1, ..., 0, 1, 0], dtype=uint32), array([0, 0, 0, ..., 1, 0, 0], dtype=uint32), array([1, 0, 1, ..., 1, 1, 1], dtype=uint32)]\n",
      "10\n"
     ]
    }
   ],
   "source": [
    "test_population = generate_population(10, gene_length)\n",
    "print(test_population)\n",
    "print(len(test_population))"
   ]
  },
  {
   "cell_type": "markdown",
   "metadata": {},
   "source": [
    "Looks like it's all good. With a population generated, let's see how we'll evaluate each individual. First, let's define what we are trying to minimize. Let's call it error, which is the sheer number of binary numbers that are wrong."
   ]
  },
  {
   "cell_type": "code",
   "execution_count": 184,
   "metadata": {},
   "outputs": [],
   "source": [
    "def error_score(individual, variable):\n",
    "    error = sum(individual != transform_image_to_binary(variable, binary_format_length))\n",
    "    return error"
   ]
  },
  {
   "cell_type": "markdown",
   "metadata": {},
   "source": [
    "Let's compile all errors into a list of results."
   ]
  },
  {
   "cell_type": "code",
   "execution_count": 268,
   "metadata": {},
   "outputs": [],
   "source": [
    "def score_results(population, variable):\n",
    "    results = list()\n",
    "    for i in range(len(population)):\n",
    "        error = error_score(population[i], variable)\n",
    "        results.append([i, error])\n",
    "    results = np.array(results)\n",
    "    results = pd.DataFrame(results).sort_values(by = 1)\n",
    "    results = results.values\n",
    "    return results"
   ]
  },
  {
   "cell_type": "markdown",
   "metadata": {},
   "source": [
    "Let's see what we get."
   ]
  },
  {
   "cell_type": "code",
   "execution_count": 269,
   "metadata": {},
   "outputs": [],
   "source": [
    "results = score_results(test_population, variable)"
   ]
  },
  {
   "cell_type": "code",
   "execution_count": 276,
   "metadata": {},
   "outputs": [
    {
     "data": {
      "text/plain": [
       "array([[   9, 3078],\n",
       "       [   7, 3100],\n",
       "       [   3, 3104],\n",
       "       [   8, 3105],\n",
       "       [   6, 3138],\n",
       "       [   5, 3142],\n",
       "       [   4, 3163],\n",
       "       [   2, 3164],\n",
       "       [   1, 3204],\n",
       "       [   0, 3248]])"
      ]
     },
     "execution_count": 276,
     "metadata": {},
     "output_type": "execute_result"
    }
   ],
   "source": [
    "results"
   ]
  },
  {
   "cell_type": "markdown",
   "metadata": {},
   "source": [
    "Now, let's make several components of the selection process."
   ]
  },
  {
   "cell_type": "code",
   "execution_count": null,
   "metadata": {},
   "outputs": [],
   "source": [
    "from math import ceil\n",
    "\n",
    "def survival_of_the_fittest(population, results, top_percentile = 0.2, lucky_few = 0.1):\n",
    "    population_size = len(population)\n",
    "    top_percentile = ceil(top_percentile * population_size)\n",
    "    survivors = results[:top_percentile,0]\n",
    "    survivors = [population[i] for i in survivors]\n",
    "    rest = results[top_percentile:,0]\n",
    "    rest = [population[i] for i in rest]\n",
    "    lucky_few = ceil(len(rest) * lucky_few)\n",
    "    for lucky in range(lucky_few):\n",
    "        survivors.append(rest[np.random.randint(0,len(rest))])\n",
    "    return survivors\n",
    "\n",
    "def matching(survivors, population):\n",
    "    population_size = len(population)\n",
    "    prob = np.array(range(len(survivors))) + 1\n",
    "    prob = prob/sum(prob)\n",
    "    prob = sorted(prob, reverse = True)\n",
    "    position_range = np.array(range(len(survivors)))\n",
    "    position_range = np.random.choice(position_range, population_size * 2, p = prob)\n",
    "    matches = [survivors[ind] for ind in position_range]\n",
    "    return matches\n",
    "\n",
    "def children(matches, gene_length):\n",
    "    children = list()\n",
    "    for i in range(0,int(len(matches)/2)):\n",
    "        j = i * 2\n",
    "        i = j + 1\n",
    "        c = breeding(matches[j], matches[i], gene_length)\n",
    "        children.append(c)\n",
    "    return children\n",
    "\n",
    "def breeding(a, b, gene_length):\n",
    "    binn = np.random.randint(2, size = gene_length, dtype = 'uint')\n",
    "    c = np.zeros(gene_length, dtype = 'uint')\n",
    "    for i in range(gene_length):\n",
    "        if binn[i] == 0: c[i] = mutate(a[i])\n",
    "        else: c[i] = mutate(b[i])\n",
    "    return c\n",
    "\n",
    "def mutate(gene):\n",
    "    prob = 1/gene_length\n",
    "    prob = 0.1\n",
    "    mutation = np.random.randint(2)\n",
    "    gene = np.random.choice([gene, mutation], p = [1-prob, prob])\n",
    "    return gene\n",
    "\n",
    "def new_generation(population, variable, gene_length):\n",
    "    results = score_results(population, variable)\n",
    "    survivors = survival_of_the_fittest(population, results)\n",
    "    matches = matching(survivors, population)\n",
    "    population = children(matches, gene_length)\n",
    "    return population"
   ]
  },
  {
   "cell_type": "markdown",
   "metadata": {},
   "source": [
    "In order to track the time of each generation, I've written a very basic \"time_delta\" function."
   ]
  },
  {
   "cell_type": "code",
   "execution_count": 342,
   "metadata": {},
   "outputs": [],
   "source": [
    "import time, datetime\n",
    "def time_delta(temp_start_time):\n",
    "    delta = time.time() - temp_start_time\n",
    "    return str(datetime.timedelta(seconds=int(delta)))"
   ]
  },
  {
   "cell_type": "markdown",
   "metadata": {},
   "source": [
    "Finally, let's compile everything in a single function."
   ]
  },
  {
   "cell_type": "code",
   "execution_count": 349,
   "metadata": {},
   "outputs": [],
   "source": [
    "def evolutionary_algorithm(variable, population_size, number_of_rounds):\n",
    "    \n",
    "    dimension1 = variable.shape[0]\n",
    "    dimension2 = variable.shape[1]\n",
    "    brightest_pixel = variable.max()\n",
    "    gene_length = binary_format_length * dimension1 * dimension2\n",
    "    \n",
    "    population = generate_population(population_size, gene_length)\n",
    "    \n",
    "    for i in range(number_of_rounds):\n",
    "        temp_start_time = time.time()\n",
    "        population = new_generation(population, variable, gene_length)\n",
    "        score = score_results(population, variable)[0][1]\n",
    "        print(score, time_delta(temp_start_time), '\\n')\n",
    "    \n",
    "    winner = population[score_results(population, variable)[0][0]]\n",
    "    winner = transform_binary_to_image(winner, binary_format_length)\n",
    "    \n",
    "    return winner, population, score"
   ]
  },
  {
   "cell_type": "markdown",
   "metadata": {},
   "source": [
    "Now we just need to set the parameters and sit tight."
   ]
  },
  {
   "cell_type": "code",
   "execution_count": 360,
   "metadata": {},
   "outputs": [
    {
     "name": "stdout",
     "output_type": "stream",
     "text": [
      "2990 0:00:42 \n",
      "\n",
      "2953 0:00:40 \n",
      "\n",
      "2910 0:00:40 \n",
      "\n",
      "2869 0:00:41 \n",
      "\n",
      "2829 0:00:40 \n",
      "\n",
      "2795 0:00:41 \n",
      "\n",
      "2769 0:00:40 \n",
      "\n",
      "2714 0:00:40 \n",
      "\n",
      "2666 0:00:44 \n",
      "\n",
      "2646 0:00:42 \n",
      "\n"
     ]
    }
   ],
   "source": [
    "winner, population, score = evolutionary_algorithm(variable, 200, 10)"
   ]
  },
  {
   "cell_type": "code",
   "execution_count": 376,
   "metadata": {},
   "outputs": [],
   "source": [
    "def continue_evolution(variable, population, population_size, number_of_rounds):\n",
    "    \n",
    "    for i in range(number_of_rounds):\n",
    "        temp_start_time = time.time()\n",
    "        population = new_generation(population, variable, gene_length)\n",
    "        score = score_results(population, variable)[0][1]\n",
    "        print(i, score, time_delta(temp_start_time), '\\n')\n",
    "    \n",
    "    winner = population[score_results(population, variable)[0][0]]\n",
    "    winner = transform_binary_to_image(winner, binary_format_length)\n",
    "    \n",
    "    return winner, population, score"
   ]
  },
  {
   "cell_type": "code",
   "execution_count": null,
   "metadata": {},
   "outputs": [],
   "source": [
    "winner, population, score = continue_evolution(variable, population, 200, 100)"
   ]
  },
  {
   "cell_type": "code",
   "execution_count": 379,
   "metadata": {},
   "outputs": [
    {
     "data": {
      "image/png": "[encoded data removed]",
      "text/plain": [
       "<Figure size 1440x288 with 1 Axes>"
      ]
     },
     "metadata": {},
     "output_type": "display_data"
    }
   ],
   "source": [
    "show_picture(winner)"
   ]
  },
  {
   "cell_type": "code",
   "execution_count": null,
   "metadata": {},
   "outputs": [],
   "source": []
  }
 ],
 "metadata": {
  "kernelspec": {
   "display_name": "Python 3",
   "language": "python",
   "name": "python3"
  },
  "language_info": {
   "codemirror_mode": {
    "name": "ipython",
    "version": 3
   },
   "file_extension": ".py",
   "mimetype": "text/x-python",
   "name": "python",
   "nbconvert_exporter": "python",
   "pygments_lexer": "ipython3",
   "version": "3.6.6"
  }
 },
 "nbformat": 4,
 "nbformat_minor": 2
}
